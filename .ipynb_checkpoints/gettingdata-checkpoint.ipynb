{
 "cells": [
  {
   "cell_type": "code",
   "execution_count": 1,
   "id": "bd5c5e9e-bd94-42fd-b690-7dc3b0af16a8",
   "metadata": {},
   "outputs": [],
   "source": [
    "import statsapi\n",
    "playerstats={}\n",
    "playerstats['BobbyWitt'] = statsapi.player_stat_data(677951, group=\"[hitting]\", type=\"season\", sportId=1)\n",
    "playerstats['SalvadorPerez'] = (statsapi.player_stat_data(521692, group=\"[hitting]\", type=\"season\", sportId=1))\n"
   ]
  },
  {
   "cell_type": "code",
   "execution_count": 2,
   "id": "5fadd31b-10f4-4722-9663-97c7e43d51c0",
   "metadata": {},
   "outputs": [
    {
     "name": "stdout",
     "output_type": "stream",
     "text": [
      "{   'BobbyWitt': {   'active': True,\n",
      "                     'bat_side': 'Right',\n",
      "                     'current_team': 'Kansas City Royals',\n",
      "                     'first_name': 'Bobby',\n",
      "                     'id': 677951,\n",
      "                     'last_name': 'Witt',\n",
      "                     'last_played': None,\n",
      "                     'mlb_debut': '2022-04-07',\n",
      "                     'nickname': None,\n",
      "                     'pitch_hand': 'Right',\n",
      "                     'position': 'SS',\n",
      "                     'stats': [   {   'group': 'hitting',\n",
      "                                      'season': '2023',\n",
      "                                      'stats': {   'airOuts': 209,\n",
      "                                                   'atBats': 641,\n",
      "                                                   'atBatsPerHomeRun': '21.37',\n",
      "                                                   'avg': '.276',\n",
      "                                                   'babip': '.295',\n",
      "                                                   'baseOnBalls': 40,\n",
      "                                                   'catchersInterference': 0,\n",
      "                                                   'caughtStealing': 15,\n",
      "                                                   'doubles': 28,\n",
      "                                                   'gamesPlayed': 158,\n",
      "                                                   'groundIntoDoublePlay': 11,\n",
      "                                                   'groundOuts': 143,\n",
      "                                                   'groundOutsToAirouts': '0.68',\n",
      "                                                   'hitByPitch': 4,\n",
      "                                                   'hits': 177,\n",
      "                                                   'homeRuns': 30,\n",
      "                                                   'intentionalWalks': 1,\n",
      "                                                   'leftOnBase': 227,\n",
      "                                                   'numberOfPitches': 2701,\n",
      "                                                   'obp': '.319',\n",
      "                                                   'ops': '.814',\n",
      "                                                   'plateAppearances': 694,\n",
      "                                                   'rbi': 96,\n",
      "                                                   'runs': 97,\n",
      "                                                   'sacBunts': 1,\n",
      "                                                   'sacFlies': 8,\n",
      "                                                   'slg': '.495',\n",
      "                                                   'stolenBasePercentage': '.766',\n",
      "                                                   'stolenBases': 49,\n",
      "                                                   'strikeOuts': 121,\n",
      "                                                   'totalBases': 317,\n",
      "                                                   'triples': 11},\n",
      "                                      'type': 'season'}]},\n",
      "    'SalvadorPerez': {   'active': True,\n",
      "                         'bat_side': 'Right',\n",
      "                         'current_team': 'Kansas City Royals',\n",
      "                         'first_name': 'Salvador',\n",
      "                         'id': 521692,\n",
      "                         'last_name': 'Perez',\n",
      "                         'last_played': None,\n",
      "                         'mlb_debut': '2011-08-10',\n",
      "                         'nickname': 'El Nino',\n",
      "                         'pitch_hand': 'Right',\n",
      "                         'position': 'C',\n",
      "                         'stats': [   {   'group': 'hitting',\n",
      "                                          'season': '2023',\n",
      "                                          'stats': {   'airOuts': 161,\n",
      "                                                       'atBats': 538,\n",
      "                                                       'atBatsPerHomeRun': '23.39',\n",
      "                                                       'avg': '.255',\n",
      "                                                       'babip': '.294',\n",
      "                                                       'baseOnBalls': 19,\n",
      "                                                       'catchersInterference': 2,\n",
      "                                                       'caughtStealing': 0,\n",
      "                                                       'doubles': 21,\n",
      "                                                       'gamesPlayed': 140,\n",
      "                                                       'groundIntoDoublePlay': 11,\n",
      "                                                       'groundOuts': 113,\n",
      "                                                       'groundOutsToAirouts': '0.70',\n",
      "                                                       'hitByPitch': 13,\n",
      "                                                       'hits': 137,\n",
      "                                                       'homeRuns': 23,\n",
      "                                                       'intentionalWalks': 6,\n",
      "                                                       'leftOnBase': 213,\n",
      "                                                       'numberOfPitches': 2061,\n",
      "                                                       'obp': '.292',\n",
      "                                                       'ops': '.714',\n",
      "                                                       'plateAppearances': 580,\n",
      "                                                       'rbi': 80,\n",
      "                                                       'runs': 59,\n",
      "                                                       'sacBunts': 0,\n",
      "                                                       'sacFlies': 8,\n",
      "                                                       'slg': '.422',\n",
      "                                                       'stolenBasePercentage': '.---',\n",
      "                                                       'stolenBases': 0,\n",
      "                                                       'strikeOuts': 135,\n",
      "                                                       'totalBases': 227,\n",
      "                                                       'triples': 0},\n",
      "                                          'type': 'season'}]}}\n"
     ]
    }
   ],
   "source": [
    "import pprint\n",
    "\n",
    "pprinter = pprint.PrettyPrinter(indent=4)\n",
    "pprinter.pprint(playerstats)"
   ]
  },
  {
   "cell_type": "code",
   "execution_count": 3,
   "id": "4447d242-130d-4150-a62a-2334e4dac9d0",
   "metadata": {},
   "outputs": [],
   "source": [
    "import pickle\n",
    "with open('playerstats.pkl', 'wb') as f:\n",
    "    pickle.dump(playerstats, f)"
   ]
  },
  {
   "cell_type": "code",
   "execution_count": 4,
   "id": "85b22e03-608f-444f-b83f-0276e92bc1e2",
   "metadata": {},
   "outputs": [],
   "source": [
    "import pickle \n",
    "with open('playerstats.pkl', 'rb') as f:\n",
    "    playerstats = pickle.load(f)"
   ]
  }
 ],
 "metadata": {
  "kernelspec": {
   "display_name": "Python 3 (ipykernel)",
   "language": "python",
   "name": "python3"
  },
  "language_info": {
   "codemirror_mode": {
    "name": "ipython",
    "version": 3
   },
   "file_extension": ".py",
   "mimetype": "text/x-python",
   "name": "python",
   "nbconvert_exporter": "python",
   "pygments_lexer": "ipython3",
   "version": "3.12.0"
  }
 },
 "nbformat": 4,
 "nbformat_minor": 5
}
